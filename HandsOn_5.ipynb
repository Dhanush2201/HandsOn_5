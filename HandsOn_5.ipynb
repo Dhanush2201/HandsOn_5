{
 "cells": [
  {
   "cell_type": "code",
   "execution_count": null,
   "id": "27481e61",
   "metadata": {},
   "outputs": [
    {
     "name": "stdout",
     "output_type": "stream",
     "text": [
      "\n",
      "Choose an option:\n",
      "1. Initialize custom heap\n",
      "2. Insert custom element\n",
      "3. Extract minimum custom element\n",
      "4. Display custom heap\n",
      "5. Exit\n"
     ]
    }
   ],
   "source": [
    "import heapq as hq\n",
    "\n",
    "class CustomHeap:\n",
    "    def __init__(self):\n",
    "        self.custom_heap = []\n",
    "\n",
    "    def initialize_custom_heap(self, elements):\n",
    "        self.custom_heap = elements\n",
    "        hq.heapify(self.custom_heap)\n",
    "\n",
    "    def extract_custom_min(self):\n",
    "        if not self.custom_heap:\n",
    "            return None\n",
    "        return hq.heappop(self.custom_heap)\n",
    "\n",
    "    def insert_custom_element(self, value):\n",
    "        hq.heappush(self.custom_heap, value)\n",
    "\n",
    "    def display_custom_heap(self):\n",
    "        print(\"Custom Heap:\", self.custom_heap)\n",
    "\n",
    "if __name__ == \"__main__\":\n",
    "    custom_heap_instance = CustomHeap()\n",
    "\n",
    "    while True:\n",
    "        print(\"\\nChoose an option:\")\n",
    "        print(\"1. Initialize custom heap\")\n",
    "        print(\"2. Insert custom element\")\n",
    "        print(\"3. Extract minimum custom element\")\n",
    "        print(\"4. Display custom heap\")\n",
    "        print(\"5. Exit\")\n",
    "\n",
    "        user_choice = input(\"Enter your choice: \")\n",
    "\n",
    "        if user_choice == '1':\n",
    "            user_input_elements = input(\"Enter space-separated elements to initialize custom heap: \").split()\n",
    "            custom_heap_instance.initialize_custom_heap(user_input_elements)\n",
    "        elif user_choice == '2':\n",
    "            user_input_value = input(\"Enter element to insert into custom heap: \")\n",
    "            custom_heap_instance.insert_custom_element(user_input_value)\n",
    "        elif user_choice == '3':\n",
    "            extracted_min = custom_heap_instance.extract_custom_min()\n",
    "            if extracted_min is not None:\n",
    "                print(\"Extracted minimum custom element:\", extracted_min)\n",
    "            else:\n",
    "                print(\"Custom heap is empty.\")\n",
    "        elif user_choice == '4':\n",
    "            custom_heap_instance.display_custom_heap()\n",
    "        elif user_choice == '5':\n",
    "            break\n",
    "        else:\n",
    "            print(\"Invalid choice. Please try again.\")\n"
   ]
  },
  {
   "cell_type": "code",
   "execution_count": null,
   "id": "6c82d13a",
   "metadata": {},
   "outputs": [],
   "source": []
  },
  {
   "cell_type": "code",
   "execution_count": null,
   "id": "37f67f8d",
   "metadata": {},
   "outputs": [],
   "source": []
  }
 ],
 "metadata": {
  "kernelspec": {
   "display_name": "Python 3 (ipykernel)",
   "language": "python",
   "name": "python3"
  },
  "language_info": {
   "codemirror_mode": {
    "name": "ipython",
    "version": 3
   },
   "file_extension": ".py",
   "mimetype": "text/x-python",
   "name": "python",
   "nbconvert_exporter": "python",
   "pygments_lexer": "ipython3",
   "version": "3.9.7"
  }
 },
 "nbformat": 4,
 "nbformat_minor": 5
}
